{
 "cells": [
  {
   "cell_type": "markdown",
   "id": "fdb91561-b4cc-4fd0-af11-1da9904e1005",
   "metadata": {},
   "source": [
    "Rossman Sales Prediction"
   ]
  },
  {
   "cell_type": "code",
   "execution_count": 31,
   "id": "f5a7c654-1e79-4b94-b25d-b4b3f91a6b2a",
   "metadata": {},
   "outputs": [],
   "source": [
    "import warnings\n",
    "warnings.filterwarnings(\"ignore\")\n",
    "\n",
    "import math\n",
    "import random\n",
    "import datetime\n",
    "import numpy as np\n",
    "import pandas as pd\n",
    "\n",
    "import matplotlib.pyplot as plt\n",
    "import seaborn as sns\n",
    "\n",
    "from statsmodels.stats.outliers_influence import variance_inflation_factor\n",
    "import category_encoders as ce\n",
    "\n",
    "import xgboost as xgb\n",
    "\n",
    "\n",
    "from sklearn.model_selection import train_test_split\n",
    "from sklearn.preprocessing import StandardScaler, MinMaxScaler\n",
    "from sklearn.pipeline import Pipeline\n",
    "from sklearn.model_selection import GridSearchCV\n",
    "from sklearn.model_selection import RandomizedSearchCV\n",
    "\n",
    "from sklearn.linear_model import LinearRegression, Ridge, Lasso, ElasticNet\n",
    "from sklearn.tree import DecisionTreeRegressor\n",
    "from sklearn.ensemble import RandomForestRegressor\n",
    "from sklearn.neighbors import KNeighborsRegressor\n",
    "\n",
    "import xgboost as xgb\n",
    "\n",
    "from sklearn.metrics import r2_score\n",
    "from sklearn.metrics import mean_squared_error\n",
    "\n",
    "import pickle"
   ]
  },
  {
   "cell_type": "markdown",
   "id": "96367c98-4642-42e6-b9c7-2579229baf9f",
   "metadata": {},
   "source": [
    "Data Loading:"
   ]
  },
  {
   "cell_type": "code",
   "execution_count": 32,
   "id": "b012fdc0-d0d0-434d-820a-0e600efce82e",
   "metadata": {},
   "outputs": [],
   "source": [
    "df_store = pd.read_csv(\"C:\\\\Users\\\\ADMIN\\\\Downloads\\\\Rossman\\\\store.csv\")\n",
    "df_train = pd.read_csv(\"C:\\\\Users\\\\ADMIN\\\\Downloads\\\\Rossman\\\\train.csv\")"
   ]
  },
  {
   "cell_type": "markdown",
   "id": "b8280f7f-168a-407d-b2dc-6ba24a8a8642",
   "metadata": {},
   "source": [
    "Data Preprocessing:"
   ]
  },
  {
   "cell_type": "code",
   "execution_count": 33,
   "id": "2e2361ca-f719-44a1-8e00-7a601e80df89",
   "metadata": {},
   "outputs": [],
   "source": [
    "df_store[\"CompetitionDistance\"].fillna(value = df_store.CompetitionDistance.median(), inplace=True)"
   ]
  },
  {
   "cell_type": "code",
   "execution_count": 34,
   "id": "0a9829fb-f41e-4232-8557-4cdaaa4d59b5",
   "metadata": {},
   "outputs": [],
   "source": [
    "df_store[\"CompetitionOpenSinceMonth\"].fillna(value = df_store.CompetitionOpenSinceMonth.mode()[0], inplace=True)\n",
    "df_store[\"CompetitionOpenSinceYear\"].fillna(value = df_store.CompetitionOpenSinceYear.mode()[0], inplace=True)"
   ]
  },
  {
   "cell_type": "code",
   "execution_count": 35,
   "id": "af7d3947-f131-4d4f-8583-860fe1eda94d",
   "metadata": {},
   "outputs": [],
   "source": [
    "df_store[\"Promo2SinceWeek\"].fillna(value = 0, inplace=True)\n",
    "df_store[\"Promo2SinceYear\"].fillna(value = 0, inplace=True)\n",
    "df_store[\"PromoInterval\"].fillna(value = 0, inplace=True)"
   ]
  },
  {
   "cell_type": "code",
   "execution_count": 36,
   "id": "0c845866-94f5-4eeb-a843-54fc473901c3",
   "metadata": {},
   "outputs": [],
   "source": [
    "df_rossmann = pd.read_csv(\"merged.csv\")"
   ]
  },
  {
   "cell_type": "code",
   "execution_count": 37,
   "id": "a5e90094-a766-450c-ad63-dd9bb2c3a570",
   "metadata": {},
   "outputs": [],
   "source": [
    "df_rossmann['Date'] = pd.to_datetime(df_rossmann['Date'])\n",
    "df_rossmann[\"StateHoliday\"].replace({'0':0, 'a':1, 'b':1, 'c':1}, inplace=True)\n",
    "df_rossmann = df_rossmann.astype({\"CompetitionOpenSinceMonth\":int, \"CompetitionOpenSinceYear\":int, \"Promo2SinceWeek\":int, \"Promo2SinceYear\":int})\n",
    "\n",
    "\n",
    "\n"
   ]
  },
  {
   "cell_type": "code",
   "execution_count": 38,
   "id": "7e1ac20d-7e06-4987-a766-9e9e2d9593a5",
   "metadata": {},
   "outputs": [],
   "source": [
    "get_week_number = lambda x: x.isocalendar()[1]\n",
    "df_rossmann['WeekOfYear'] = df_rossmann['Date'].apply(get_week_number)\n",
    "df_rossmann['Month'] = df_rossmann['Date'].dt.month\n",
    "df_rossmann['Year'] = df_rossmann['Date'].dt.year"
   ]
  },
  {
   "cell_type": "code",
   "execution_count": 39,
   "id": "ad1d223a-0a60-4b6c-8cda-41a7d2330b46",
   "metadata": {},
   "outputs": [],
   "source": [
    "df_rossmann['CompetitionOpenNumMonths'] = (df_rossmann['Year'] - df_rossmann['CompetitionOpenSinceYear']) * 12 + (df_rossmann['Month'] - df_rossmann['CompetitionOpenSinceMonth'])"
   ]
  },
  {
   "cell_type": "code",
   "execution_count": 40,
   "id": "6269bfa4-c932-4a11-aad7-762fc4ece53a",
   "metadata": {},
   "outputs": [
    {
     "data": {
      "text/html": [
       "<div>\n",
       "<style scoped>\n",
       "    .dataframe tbody tr th:only-of-type {\n",
       "        vertical-align: middle;\n",
       "    }\n",
       "\n",
       "    .dataframe tbody tr th {\n",
       "        vertical-align: top;\n",
       "    }\n",
       "\n",
       "    .dataframe thead th {\n",
       "        text-align: right;\n",
       "    }\n",
       "</style>\n",
       "<table border=\"1\" class=\"dataframe\">\n",
       "  <thead>\n",
       "    <tr style=\"text-align: right;\">\n",
       "      <th></th>\n",
       "      <th>DayOfWeek</th>\n",
       "      <th>Sales</th>\n",
       "      <th>Customers</th>\n",
       "      <th>Open</th>\n",
       "      <th>Promo</th>\n",
       "      <th>StateHoliday</th>\n",
       "      <th>SchoolHoliday</th>\n",
       "      <th>StoreType</th>\n",
       "      <th>Assortment</th>\n",
       "      <th>CompetitionDistance</th>\n",
       "      <th>PromoInterval</th>\n",
       "      <th>WeekOfYear</th>\n",
       "      <th>CompetitionOpenNumMonths</th>\n",
       "      <th>Promo2NumWeeks</th>\n",
       "    </tr>\n",
       "  </thead>\n",
       "  <tbody>\n",
       "    <tr>\n",
       "      <th>0</th>\n",
       "      <td>5</td>\n",
       "      <td>5263</td>\n",
       "      <td>555</td>\n",
       "      <td>1</td>\n",
       "      <td>1</td>\n",
       "      <td>0</td>\n",
       "      <td>1</td>\n",
       "      <td>c</td>\n",
       "      <td>a</td>\n",
       "      <td>1270.0</td>\n",
       "      <td>0</td>\n",
       "      <td>31</td>\n",
       "      <td>82</td>\n",
       "      <td>0</td>\n",
       "    </tr>\n",
       "    <tr>\n",
       "      <th>1</th>\n",
       "      <td>5</td>\n",
       "      <td>6064</td>\n",
       "      <td>625</td>\n",
       "      <td>1</td>\n",
       "      <td>1</td>\n",
       "      <td>0</td>\n",
       "      <td>1</td>\n",
       "      <td>a</td>\n",
       "      <td>a</td>\n",
       "      <td>570.0</td>\n",
       "      <td>Jan,Apr,Jul,Oct</td>\n",
       "      <td>31</td>\n",
       "      <td>92</td>\n",
       "      <td>278</td>\n",
       "    </tr>\n",
       "    <tr>\n",
       "      <th>2</th>\n",
       "      <td>5</td>\n",
       "      <td>8314</td>\n",
       "      <td>821</td>\n",
       "      <td>1</td>\n",
       "      <td>1</td>\n",
       "      <td>0</td>\n",
       "      <td>1</td>\n",
       "      <td>a</td>\n",
       "      <td>a</td>\n",
       "      <td>14130.0</td>\n",
       "      <td>Jan,Apr,Jul,Oct</td>\n",
       "      <td>31</td>\n",
       "      <td>103</td>\n",
       "      <td>225</td>\n",
       "    </tr>\n",
       "    <tr>\n",
       "      <th>3</th>\n",
       "      <td>5</td>\n",
       "      <td>13995</td>\n",
       "      <td>1498</td>\n",
       "      <td>1</td>\n",
       "      <td>1</td>\n",
       "      <td>0</td>\n",
       "      <td>1</td>\n",
       "      <td>c</td>\n",
       "      <td>c</td>\n",
       "      <td>620.0</td>\n",
       "      <td>0</td>\n",
       "      <td>31</td>\n",
       "      <td>70</td>\n",
       "      <td>0</td>\n",
       "    </tr>\n",
       "    <tr>\n",
       "      <th>4</th>\n",
       "      <td>5</td>\n",
       "      <td>4822</td>\n",
       "      <td>559</td>\n",
       "      <td>1</td>\n",
       "      <td>1</td>\n",
       "      <td>0</td>\n",
       "      <td>1</td>\n",
       "      <td>a</td>\n",
       "      <td>a</td>\n",
       "      <td>29910.0</td>\n",
       "      <td>0</td>\n",
       "      <td>31</td>\n",
       "      <td>3</td>\n",
       "      <td>0</td>\n",
       "    </tr>\n",
       "  </tbody>\n",
       "</table>\n",
       "</div>"
      ],
      "text/plain": [
       "   DayOfWeek  Sales  Customers  Open  Promo  StateHoliday  SchoolHoliday  \\\n",
       "0          5   5263        555     1      1             0              1   \n",
       "1          5   6064        625     1      1             0              1   \n",
       "2          5   8314        821     1      1             0              1   \n",
       "3          5  13995       1498     1      1             0              1   \n",
       "4          5   4822        559     1      1             0              1   \n",
       "\n",
       "  StoreType Assortment  CompetitionDistance    PromoInterval  WeekOfYear  \\\n",
       "0         c          a               1270.0                0          31   \n",
       "1         a          a                570.0  Jan,Apr,Jul,Oct          31   \n",
       "2         a          a              14130.0  Jan,Apr,Jul,Oct          31   \n",
       "3         c          c                620.0                0          31   \n",
       "4         a          a              29910.0                0          31   \n",
       "\n",
       "   CompetitionOpenNumMonths  Promo2NumWeeks  \n",
       "0                        82               0  \n",
       "1                        92             278  \n",
       "2                       103             225  \n",
       "3                        70               0  \n",
       "4                         3               0  "
      ]
     },
     "execution_count": 40,
     "metadata": {},
     "output_type": "execute_result"
    }
   ],
   "source": [
    "\n",
    "df_rossmann['Promo2NumWeeks'] = (df_rossmann['Year'] - df_rossmann['Promo2SinceYear']) * 52 + (df_rossmann['WeekOfYear'] - df_rossmann['Promo2SinceWeek'])\n",
    "df_rossmann.loc[df_rossmann['Promo2'] == 0, 'Promo2NumWeeks'] = 0\n",
    "df_rossmann['CompetitionOpenNumMonths'] = df_rossmann['CompetitionOpenNumMonths'].apply(lambda x: 0 if x < 0 else x)\n",
    "df_rossmann['Promo2NumWeeks'] = df_rossmann['Promo2NumWeeks'].apply(lambda x: 0 if x < 0 else x)\n",
    "\n",
    "df_rossmann.drop('Store', axis=1, inplace=True)\n",
    "df_rossmann.drop('Date', axis=1, inplace=True)\n",
    "df_rossmann.drop(['CompetitionOpenSinceMonth', 'CompetitionOpenSinceYear'], axis=1, inplace=True)\n",
    "df_rossmann.drop(['Promo2', 'Promo2SinceWeek', 'Promo2SinceYear'], axis=1, inplace=True)\n",
    "df_rossmann.drop('Month', axis=1, inplace=True)\n",
    "df_rossmann.drop('Year', axis=1, inplace= True)\n",
    "df_rossmann.head()"
   ]
  },
  {
   "cell_type": "code",
   "execution_count": 41,
   "id": "2ea60022",
   "metadata": {},
   "outputs": [],
   "source": [
    "def remove_outliers_iqr(df, condition, column):\n",
    "    Q1 = df[column].quantile(0.25)\n",
    "    Q3 = df[column].quantile(0.75)\n",
    "    IQR = Q3 - Q1\n",
    "    lower_bound = Q1 - 1.5 * IQR\n",
    "    upper_bound = Q3 + 1.5 * IQR\n",
    "    outlier_filter = df[condition & ((df[column] < lower_bound) | (df[column] > upper_bound))].index\n",
    "    df.drop(outlier_filter, inplace=True)\n"
   ]
  },
  {
   "cell_type": "code",
   "execution_count": 42,
   "id": "379ad125",
   "metadata": {},
   "outputs": [
    {
     "data": {
      "text/plain": [
       "\"\\na_filter = df_rossmann[(df_rossmann['StoreType'] == 'a') & (((df_rossmann['Sales'] > 20000) & (df_rossmann['Customers'] < 1000)) | \\n                                                            (df_rossmann['Sales'] > 40000) | (df_rossmann['Customers'] > 7000))].index\\nc_filter = df_rossmann[(df_rossmann['StoreType'] == 'c') & (((df_rossmann['Sales'] > 9000) & (df_rossmann['Customers'] < 500)) |\\n                                                            ((df_rossmann['Sales'] < 15000) & (df_rossmann['Customers'] > 2500)) |\\n                                                            ((df_rossmann['Sales'] > 25000) & (df_rossmann['Customers'] < 2000)) |\\n                                                             (df_rossmann['Sales'] > 30000))].index\\nd_filter = df_rossmann[(df_rossmann['StoreType'] == 'd') & ((df_rossmann['Sales'] > 17500) & (df_rossmann['Customers'] < 875) |\\n                                                            (df_rossmann['Sales'] > 31000) | (df_rossmann['Customers'] > 2000))].index\\n\\ndf_rossmann.drop(a_filter, inplace=True)\\ndf_rossmann.drop(c_filter, inplace=True)\\ndf_rossmann.drop(d_filter, inplace=True)\\na_filter = df_rossmann[(df_rossmann['Assortment'] == 'a') & (((df_rossmann['Sales'] > 20000) & (df_rossmann['Customers'] < 1000)) |\\n                                                             ((df_rossmann['Sales'] > 27500) & (df_rossmann['Customers'] < 2000)) |\\n                                                             ((df_rossmann['Sales'] > 31000) & (df_rossmann['Customers'] < 3250)) |\\n                                                              (df_rossmann['Sales'] > 35000))].index\\ndf_rossmann.drop(a_filter, inplace=True)\\n\""
      ]
     },
     "execution_count": 42,
     "metadata": {},
     "output_type": "execute_result"
    }
   ],
   "source": [
    "\n",
    "remove_outliers_iqr(df_rossmann, (df_rossmann['StoreType'] == 'a'), 'Sales')\n",
    "remove_outliers_iqr(df_rossmann, (df_rossmann['StoreType'] == 'a'), 'Customers')\n",
    "remove_outliers_iqr(df_rossmann, (df_rossmann['StoreType'] == 'd'), 'Sales')\n",
    "remove_outliers_iqr(df_rossmann, (df_rossmann['StoreType'] == 'd'), 'Customers')\n",
    "remove_outliers_iqr(df_rossmann, (df_rossmann['Assortment'] == 'a'), 'Sales')\n",
    "remove_outliers_iqr(df_rossmann, (df_rossmann['Assortment'] == 'a'), 'Customers')\n",
    "\n",
    "\"\"\"\n",
    "a_filter = df_rossmann[(df_rossmann['StoreType'] == 'a') & (((df_rossmann['Sales'] > 20000) & (df_rossmann['Customers'] < 1000)) | \n",
    "                                                            (df_rossmann['Sales'] > 40000) | (df_rossmann['Customers'] > 7000))].index\n",
    "c_filter = df_rossmann[(df_rossmann['StoreType'] == 'c') & (((df_rossmann['Sales'] > 9000) & (df_rossmann['Customers'] < 500)) |\n",
    "                                                            ((df_rossmann['Sales'] < 15000) & (df_rossmann['Customers'] > 2500)) |\n",
    "                                                            ((df_rossmann['Sales'] > 25000) & (df_rossmann['Customers'] < 2000)) |\n",
    "                                                             (df_rossmann['Sales'] > 30000))].index\n",
    "d_filter = df_rossmann[(df_rossmann['StoreType'] == 'd') & ((df_rossmann['Sales'] > 17500) & (df_rossmann['Customers'] < 875) |\n",
    "                                                            (df_rossmann['Sales'] > 31000) | (df_rossmann['Customers'] > 2000))].index\n",
    "\n",
    "df_rossmann.drop(a_filter, inplace=True)\n",
    "df_rossmann.drop(c_filter, inplace=True)\n",
    "df_rossmann.drop(d_filter, inplace=True)\n",
    "a_filter = df_rossmann[(df_rossmann['Assortment'] == 'a') & (((df_rossmann['Sales'] > 20000) & (df_rossmann['Customers'] < 1000)) |\n",
    "                                                             ((df_rossmann['Sales'] > 27500) & (df_rossmann['Customers'] < 2000)) |\n",
    "                                                             ((df_rossmann['Sales'] > 31000) & (df_rossmann['Customers'] < 3250)) |\n",
    "                                                              (df_rossmann['Sales'] > 35000))].index\n",
    "df_rossmann.drop(a_filter, inplace=True)\n",
    "\"\"\""
   ]
  },
  {
   "cell_type": "code",
   "execution_count": 43,
   "id": "a11f520d",
   "metadata": {},
   "outputs": [],
   "source": [
    "#df_rossmann.drop(df_rossmann[df_rossmann['CompetitionDistance'] > 37500].index, inplace=True)\n",
    "remove_outliers_iqr(df_rossmann, True, 'CompetitionDistance')"
   ]
  },
  {
   "cell_type": "code",
   "execution_count": 44,
   "id": "9f26ece1",
   "metadata": {},
   "outputs": [],
   "source": [
    "df_rossmann['Sales'] = np.sqrt(df_rossmann['Sales'])\n",
    "df_rossmann['Customers'] = np.sqrt(df_rossmann['Customers'])\n",
    "df_rossmann['CompetitionOpenNumMonths'] = np.sqrt(df_rossmann['CompetitionOpenNumMonths'])\n",
    "df_rossmann['Promo2NumWeeks'] = np.sqrt(df_rossmann['Promo2NumWeeks'])\n",
    "\n",
    "df_rossmann['CompetitionDistance'] = np.log(df_rossmann['CompetitionDistance'])"
   ]
  },
  {
   "cell_type": "code",
   "execution_count": 45,
   "id": "cc5da65b",
   "metadata": {},
   "outputs": [],
   "source": [
    "bin = ce.BinaryEncoder(cols=['DayOfWeek']).fit_transform(df_rossmann['DayOfWeek'])\n",
    "df_rossmann = pd.concat([df_rossmann, bin], axis=1)\n",
    "df_rossmann.drop('DayOfWeek', axis=1, inplace=True)\n",
    "\n",
    "bin = ce.BinaryEncoder(cols=['WeekOfYear']).fit_transform(df_rossmann['WeekOfYear'])\n",
    "df_rossmann = pd.concat([df_rossmann, bin], axis=1)\n",
    "df_rossmann.drop('WeekOfYear', axis=1, inplace=True)"
   ]
  },
  {
   "cell_type": "code",
   "execution_count": 46,
   "id": "c4880232",
   "metadata": {},
   "outputs": [],
   "source": [
    "cat_col = ['StoreType', 'Assortment']\n",
    "data_cat = df_rossmann[cat_col].copy()\n",
    "\n",
    "data_cat = pd.get_dummies(data_cat,columns=cat_col)\n",
    "data_cat = data_cat.astype(int)\n",
    "\n",
    "df_rossmann = pd.concat([df_rossmann, data_cat],axis=1)\n",
    "df_rossmann.drop(columns=cat_col,inplace=True)\n"
   ]
  },
  {
   "cell_type": "code",
   "execution_count": 47,
   "id": "b66a9085",
   "metadata": {},
   "outputs": [
    {
     "data": {
      "image/png": "[encoded data removed]",
      "text/plain": [
       "<Figure size 1200x1200 with 2 Axes>"
      ]
     },
     "metadata": {},
     "output_type": "display_data"
    }
   ],
   "source": [
    "df_rossmann = pd.get_dummies(df_rossmann, columns=['PromoInterval'])\n",
    "\n",
    "corr_mat = df_rossmann.loc[:, ['PromoInterval_0', 'PromoInterval_Feb,May,Aug,Nov', 'PromoInterval_Jan,Apr,Jul,Oct', 'PromoInterval_Mar,Jun,Sept,Dec', \n",
    "                               'StoreType_a', 'StoreType_b', 'StoreType_c', 'StoreType_d', 'Assortment_a', 'Assortment_b', 'Assortment_c', 'Sales']].corr().abs()\n",
    "f, ax = plt.subplots(figsize=(12, 12))\n",
    "sns.heatmap(corr_mat, annot = True, fmt='.3f', annot_kws={'size': 10},  vmax=.8, square=True, cmap=\"Reds\")\n",
    "df_rossmann.drop(['PromoInterval_Jan,Apr,Jul,Oct', 'StoreType_c', 'Assortment_b'], axis=1, inplace=True)"
   ]
  },
  {
   "cell_type": "code",
   "execution_count": 48,
   "id": "f85725e2",
   "metadata": {},
   "outputs": [
    {
     "data": {
      "text/plain": [
       "['Sales',\n",
       " 'Customers',\n",
       " 'Open',\n",
       " 'Promo',\n",
       " 'StateHoliday',\n",
       " 'SchoolHoliday',\n",
       " 'CompetitionDistance',\n",
       " 'CompetitionOpenNumMonths',\n",
       " 'Promo2NumWeeks',\n",
       " 'DayOfWeek_0',\n",
       " 'DayOfWeek_1',\n",
       " 'DayOfWeek_2',\n",
       " 'WeekOfYear_0',\n",
       " 'WeekOfYear_1',\n",
       " 'WeekOfYear_2',\n",
       " 'WeekOfYear_3',\n",
       " 'WeekOfYear_4',\n",
       " 'WeekOfYear_5',\n",
       " 'StoreType_a',\n",
       " 'StoreType_b',\n",
       " 'StoreType_d',\n",
       " 'Assortment_a',\n",
       " 'Assortment_c',\n",
       " 'PromoInterval_0',\n",
       " 'PromoInterval_Feb,May,Aug,Nov',\n",
       " 'PromoInterval_Mar,Jun,Sept,Dec']"
      ]
     },
     "execution_count": 48,
     "metadata": {},
     "output_type": "execute_result"
    }
   ],
   "source": [
    "def calculate_model_metrics(y_train, y_train_pred, y_test, y_test_pred):\n",
    "  metrics_dict = {}\n",
    "\n",
    "  metrics_dict['Train_R2'] = r2_score(y_train, y_train_pred)\n",
    "  metrics_dict['Test_R2'] = r2_score(y_test, y_test_pred)\n",
    "  metrics_dict['Train_RMSE'] = mean_squared_error(y_train, y_train_pred, squared=False)\n",
    "  metrics_dict['Test_RMSE'] = mean_squared_error(y_test, y_test_pred, squared=False)\n",
    "  metrics_dict['Train_RMSPE'] = calculate_rmspe(y_train, y_train_pred)\n",
    "  metrics_dict['Test_RMSPE'] = calculate_rmspe(y_test, y_test_pred)\n",
    "\n",
    "  return metrics_dict\n",
    "def calculate_rmspe(y_actual, y_pred):\n",
    "  return (np.sqrt(np.mean(np.square(y_actual.to_numpy() - y_pred))) / np.mean(y_actual.to_numpy())) * 100\n",
    "column_names = df_rossmann.columns.tolist()\n",
    "column_names"
   ]
  },
  {
   "cell_type": "code",
   "execution_count": 49,
   "id": "0765f245",
   "metadata": {},
   "outputs": [],
   "source": [
    "X = df_rossmann.drop(['Sales', 'Customers', 'Promo'], axis=1)\n",
    "y = df_rossmann['Sales']\n",
    "X_train, X_test, y_train, y_test = train_test_split(X, y, test_size=0.25, random_state = 0)"
   ]
  },
  {
   "cell_type": "code",
   "execution_count": 50,
   "id": "648c2577",
   "metadata": {},
   "outputs": [],
   "source": [
    "metrics_table = pd.DataFrame(columns=['Regression_Model', 'Train_R2', 'Test_R2', 'Train_RMSE', 'Test_RMSE', 'Train_RMSPE', 'Test_RMSPE'])"
   ]
  },
  {
   "cell_type": "code",
   "execution_count": 51,
   "id": "d18d9017",
   "metadata": {},
   "outputs": [],
   "source": [
    "linear_reg = LinearRegression()\n",
    "liner_reg_model = Pipeline([('scaler', StandardScaler()), ('linear_reg', linear_reg)])\n",
    "liner_reg_model.fit(X_train, y_train)\n",
    "y_train_pred = liner_reg_model.predict(X_train)\n",
    "y_test_pred = liner_reg_model.predict(X_test)\n"
   ]
  },
  {
   "cell_type": "code",
   "execution_count": 52,
   "id": "7c33345a",
   "metadata": {},
   "outputs": [
    {
     "name": "stdout",
     "output_type": "stream",
     "text": [
      "\n",
      "Testing Data\n",
      "R2    : 0.8476642707995622\n",
      "RMSE  : 12.999498560387794\n",
      "RMSPE : 19.888679725994457%\n"
     ]
    }
   ],
   "source": [
    "model_evaluation = calculate_model_metrics(y_train, y_train_pred, y_test, y_test_pred)\n",
    "\n",
    "\n",
    "print(f\"\\nTesting Data\\nR2    : {model_evaluation['Test_R2']}\\nRMSE  : {model_evaluation['Test_RMSE']}\\nRMSPE : {model_evaluation['Test_RMSPE']}%\")\n",
    "\n",
    "\n",
    "metrics_table.loc[len(metrics_table.index)] = ['Linear', model_evaluation['Train_R2'], model_evaluation['Test_R2'], \n",
    "                                                         model_evaluation['Train_RMSE'], model_evaluation['Test_RMSE'], \n",
    "                                                         model_evaluation['Train_RMSPE'], model_evaluation['Test_RMSPE']]\n"
   ]
  },
  {
   "cell_type": "code",
   "execution_count": 53,
   "id": "8fa4d189",
   "metadata": {},
   "outputs": [],
   "source": [
    "ridge_regression = Ridge()\n",
    "ridge_regression_model = Pipeline([('scaler', StandardScaler()), ( 'ridge', ridge_regression)])\n",
    "ridge_regression_model.fit(X_train, y_train)\n",
    "y_train_pred = ridge_regression_model.predict(X_train)\n",
    "y_test_pred = ridge_regression_model.predict(X_test)"
   ]
  },
  {
   "cell_type": "code",
   "execution_count": 54,
   "id": "d872b756",
   "metadata": {},
   "outputs": [
    {
     "name": "stdout",
     "output_type": "stream",
     "text": [
      "\n",
      "Testing Data\n",
      "R2    : 0.8476642763078039\n",
      "RMSE  : 12.999498325366172\n",
      "RMSPE : 19.888679366421375%\n"
     ]
    }
   ],
   "source": [
    "model_evaluation = calculate_model_metrics(y_train, y_train_pred, y_test, y_test_pred)\n",
    "\n",
    "\n",
    "print(f\"\\nTesting Data\\nR2    : {model_evaluation['Test_R2']}\\nRMSE  : {model_evaluation['Test_RMSE']}\\nRMSPE : {model_evaluation['Test_RMSPE']}%\")\n",
    "\n",
    "\n",
    "metrics_table.loc[len(metrics_table.index)] = ['Decision_Tree', model_evaluation['Train_R2'], model_evaluation['Test_R2'], \n",
    "                                                         model_evaluation['Train_RMSE'], model_evaluation['Test_RMSE'], \n",
    "                                                         model_evaluation['Train_RMSPE'], model_evaluation['Test_RMSPE']]\n"
   ]
  },
  {
   "cell_type": "code",
   "execution_count": 55,
   "id": "1c085500",
   "metadata": {},
   "outputs": [],
   "source": [
    "lasso_regression = Lasso()\n",
    "lasso_regression_model = Pipeline([('scaler', StandardScaler()), ( 'lasso', lasso_regression )])\n",
    "lasso_regression_model.fit(X_train, y_train)\n",
    "y_train_pred = lasso_regression_model.predict(X_train)\n",
    "y_test_pred = lasso_regression_model.predict(X_test)"
   ]
  },
  {
   "cell_type": "code",
   "execution_count": 56,
   "id": "83358fb8",
   "metadata": {},
   "outputs": [
    {
     "name": "stdout",
     "output_type": "stream",
     "text": [
      "\n",
      "Testing Data\n",
      "R2    : 0.841542937701962\n",
      "RMSE  : 13.258106777944029\n",
      "RMSPE : 20.28433929621505%\n"
     ]
    }
   ],
   "source": [
    "model_evaluation = calculate_model_metrics(y_train, y_train_pred, y_test, y_test_pred)\n",
    "\n",
    "\n",
    "print(f\"\\nTesting Data\\nR2    : {model_evaluation['Test_R2']}\\nRMSE  : {model_evaluation['Test_RMSE']}\\nRMSPE : {model_evaluation['Test_RMSPE']}%\")\n",
    "\n",
    "\n",
    "metrics_table.loc[len(metrics_table.index)] = ['Decision_Tree', model_evaluation['Train_R2'], model_evaluation['Test_R2'], \n",
    "                                                         model_evaluation['Train_RMSE'], model_evaluation['Test_RMSE'], \n",
    "                                                         model_evaluation['Train_RMSPE'], model_evaluation['Test_RMSPE']]"
   ]
  },
  {
   "cell_type": "code",
   "execution_count": 57,
   "id": "5763a6db",
   "metadata": {},
   "outputs": [],
   "source": [
    "knn = KNeighborsRegressor(n_neighbors = 1,weights = 'uniform')\n",
    "knn_model = Pipeline([('scaler', StandardScaler()), ('k-neighbor', knn)])\n",
    "knn_model.fit(X_train,y_train)\n",
    "y_train_pred = knn_model.predict(X_train)\n",
    "y_test_pred = knn_model.predict(X_test)"
   ]
  },
  {
   "cell_type": "code",
   "execution_count": 58,
   "id": "5e60803d",
   "metadata": {},
   "outputs": [
    {
     "name": "stdout",
     "output_type": "stream",
     "text": [
      "\n",
      "Testing Data\n",
      "R2    : 0.8091050711762889\n",
      "RMSE  : 14.55200743870878\n",
      "RMSPE : 22.26395225741184%\n"
     ]
    }
   ],
   "source": [
    "model_evaluation = calculate_model_metrics(y_train, y_train_pred, y_test, y_test_pred)\n",
    "\n",
    "\n",
    "print(f\"\\nTesting Data\\nR2    : {model_evaluation['Test_R2']}\\nRMSE  : {model_evaluation['Test_RMSE']}\\nRMSPE : {model_evaluation['Test_RMSPE']}%\")\n",
    "\n",
    "\n",
    "metrics_table.loc[len(metrics_table.index)] = ['K-Neighbor', model_evaluation['Train_R2'], model_evaluation['Test_R2'], \n",
    "                                                         model_evaluation['Train_RMSE'], model_evaluation['Test_RMSE'], \n",
    "                                                         model_evaluation['Train_RMSPE'], model_evaluation['Test_RMSPE']]"
   ]
  },
  {
   "cell_type": "code",
   "execution_count": 59,
   "id": "32b0d2e8",
   "metadata": {},
   "outputs": [],
   "source": [
    "random_forest = RandomForestRegressor()\n",
    "random_forest_model = Pipeline([('scaler', StandardScaler()), ('random_forest', random_forest)])\n",
    "random_forest_model.fit(X_train, y_train)\n",
    "y_train_pred = random_forest_model.predict(X_train)\n",
    "y_test_pred = random_forest_model.predict(X_test)"
   ]
  },
  {
   "cell_type": "code",
   "execution_count": 60,
   "id": "71a9a6d2",
   "metadata": {},
   "outputs": [
    {
     "name": "stdout",
     "output_type": "stream",
     "text": [
      "\n",
      "Testing Data\n",
      "R2    : 0.9615290964551854\n",
      "RMSE  : 6.532687830514726\n",
      "RMSPE : 9.99473444359788%\n"
     ]
    }
   ],
   "source": [
    "model_evaluation = calculate_model_metrics(y_train, y_train_pred, y_test, y_test_pred)\n",
    "\n",
    "\n",
    "print(f\"\\nTesting Data\\nR2    : {model_evaluation['Test_R2']}\\nRMSE  : {model_evaluation['Test_RMSE']}\\nRMSPE : {model_evaluation['Test_RMSPE']}%\")\n",
    "\n",
    "\n",
    "metrics_table.loc[len(metrics_table.index)] = ['Random_Forest', model_evaluation['Train_R2'], model_evaluation['Test_R2'], \n",
    "                                                         model_evaluation['Train_RMSE'], model_evaluation['Test_RMSE'], \n",
    "                                                         model_evaluation['Train_RMSPE'], model_evaluation['Test_RMSPE']]\n"
   ]
  },
  {
   "cell_type": "code",
   "execution_count": 65,
   "id": "5266120c",
   "metadata": {},
   "outputs": [],
   "source": [
    "xgboost = xgb.XGBRegressor()\n",
    "xgboost_model = Pipeline([('scaler', StandardScaler()), ('xgboost', xgboost)])\n",
    "xgboost_model.fit(X_train, y_train)\n",
    "y_train_pred = xgboost_model.predict(X_train)\n",
    "y_test_pred = xgboost_model.predict(X_test)"
   ]
  },
  {
   "cell_type": "code",
   "execution_count": 66,
   "id": "fe73f5b2",
   "metadata": {},
   "outputs": [
    {
     "name": "stdout",
     "output_type": "stream",
     "text": [
      "\n",
      "Testing Data\n",
      "R2    : 0.9467950719088336\n",
      "RMSE  : 7.682483614356108\n",
      "RMSPE : 11.753873074129627%\n"
     ]
    }
   ],
   "source": [
    "model_evaluation = calculate_model_metrics(y_train, y_train_pred, y_test, y_test_pred)\n",
    "\n",
    "\n",
    "print(f\"\\nTesting Data\\nR2    : {model_evaluation['Test_R2']}\\nRMSE  : {model_evaluation['Test_RMSE']}\\nRMSPE : {model_evaluation['Test_RMSPE']}%\")\n",
    "\n",
    "\n",
    "metrics_table.loc[len(metrics_table.index)] = ['XG_Boost', model_evaluation['Train_R2'], model_evaluation['Test_R2'], \n",
    "                                                         model_evaluation['Train_RMSE'], model_evaluation['Test_RMSE'], \n",
    "                                                         model_evaluation['Train_RMSPE'], model_evaluation['Test_RMSPE']]"
   ]
  },
  {
   "cell_type": "markdown",
   "id": "010ba532",
   "metadata": {},
   "source": [
    "Improve with Hyperparameter"
   ]
  },
  {
   "cell_type": "code",
   "execution_count": 68,
   "id": "60a0e1a3",
   "metadata": {},
   "outputs": [
    {
     "ename": "TypeError",
     "evalue": "GridSearchCV.__init__() got an unexpected keyword argument 'n_iter'",
     "output_type": "error",
     "traceback": [
      "\u001b[1;31m---------------------------------------------------------------------------\u001b[0m",
      "\u001b[1;31mTypeError\u001b[0m                                 Traceback (most recent call last)",
      "Cell \u001b[1;32mIn[68], line 9\u001b[0m\n\u001b[0;32m      1\u001b[0m random_forest \u001b[38;5;241m=\u001b[39m RandomForestRegressor()\n\u001b[0;32m      2\u001b[0m parameters \u001b[38;5;241m=\u001b[39m {\u001b[38;5;124m'\u001b[39m\u001b[38;5;124mmax_depth\u001b[39m\u001b[38;5;124m'\u001b[39m: [\u001b[38;5;241m5\u001b[39m, \u001b[38;5;241m10\u001b[39m, \u001b[38;5;28;01mNone\u001b[39;00m],\n\u001b[0;32m      3\u001b[0m               \u001b[38;5;124m'\u001b[39m\u001b[38;5;124mmin_samples_leaf\u001b[39m\u001b[38;5;124m'\u001b[39m: [\u001b[38;5;241m1\u001b[39m, \u001b[38;5;241m2\u001b[39m, \u001b[38;5;241m5\u001b[39m],\n\u001b[0;32m      4\u001b[0m               \u001b[38;5;124m'\u001b[39m\u001b[38;5;124mmin_samples_split\u001b[39m\u001b[38;5;124m'\u001b[39m: [\u001b[38;5;241m2\u001b[39m, \u001b[38;5;241m5\u001b[39m, \u001b[38;5;241m10\u001b[39m],\n\u001b[0;32m      5\u001b[0m               \u001b[38;5;124m'\u001b[39m\u001b[38;5;124mmax_leaf_nodes\u001b[39m\u001b[38;5;124m'\u001b[39m: [\u001b[38;5;241m5\u001b[39m, \u001b[38;5;241m20\u001b[39m, \u001b[38;5;241m100\u001b[39m],\n\u001b[0;32m      6\u001b[0m               \u001b[38;5;124m'\u001b[39m\u001b[38;5;124mmax_features\u001b[39m\u001b[38;5;124m'\u001b[39m: [\u001b[38;5;124m'\u001b[39m\u001b[38;5;124mauto\u001b[39m\u001b[38;5;124m'\u001b[39m, \u001b[38;5;124m'\u001b[39m\u001b[38;5;124msqrt\u001b[39m\u001b[38;5;124m'\u001b[39m, \u001b[38;5;124m'\u001b[39m\u001b[38;5;124mlog2\u001b[39m\u001b[38;5;124m'\u001b[39m]}\n\u001b[1;32m----> 9\u001b[0m rf_reg \u001b[38;5;241m=\u001b[39m \u001b[43mGridSearchCV\u001b[49m\u001b[43m(\u001b[49m\u001b[43mestimator\u001b[49m\u001b[38;5;241;43m=\u001b[39;49m\u001b[43mrandom_forest\u001b[49m\u001b[43m,\u001b[49m\u001b[43m \u001b[49m\u001b[43mparam_grid\u001b[49m\u001b[38;5;241;43m=\u001b[39;49m\u001b[43mparameters\u001b[49m\u001b[43m,\u001b[49m\u001b[43m \u001b[49m\u001b[43mn_iter\u001b[49m\u001b[38;5;241;43m=\u001b[39;49m\u001b[38;5;241;43m10\u001b[39;49m\u001b[43m,\u001b[49m\u001b[43m \u001b[49m\u001b[43mcv\u001b[49m\u001b[38;5;241;43m=\u001b[39;49m\u001b[38;5;241;43m3\u001b[39;49m\u001b[43m)\u001b[49m\n\u001b[0;32m     10\u001b[0m rf_reg\u001b[38;5;241m.\u001b[39mfit(X_train, y_train)\n\u001b[0;32m     12\u001b[0m \u001b[38;5;28mprint\u001b[39m(\u001b[38;5;124m\"\u001b[39m\u001b[38;5;124mThe best parameters for random forest regression: \u001b[39m\u001b[38;5;124m\"\u001b[39m)\n",
      "\u001b[1;31mTypeError\u001b[0m: GridSearchCV.__init__() got an unexpected keyword argument 'n_iter'"
     ]
    }
   ],
   "source": [
    "random_forest = RandomForestRegressor()\n",
    "parameters = {'max_depth': [5, 10, None],\n",
    "              'min_samples_leaf': [1, 2, 5],\n",
    "              'min_samples_split': [2, 5, 10],\n",
    "              'max_leaf_nodes': [5, 20, 100],\n",
    "              'max_features': ['auto', 'sqrt', 'log2']}\n",
    "\n",
    "\n",
    "rf_reg = GridSearchCV(estimator=random_forest, param_grid=parameters, cv=3)\n",
    "rf_reg.fit(X_train, y_train)\n",
    "\n",
    "print(\"The best parameters for random forest regression: \")\n",
    "for key, value in rf_reg.best_params_.items():\n",
    "  print(f\"{key}={value}\")\n",
    "print(f\"\\nNegative mean squared error: {rf_reg.best_score_}\")\n",
    "\n",
    "# predict the train and test data\n",
    "y_train_pred = rf_reg.predict(X_train)\n",
    "y_test_pred = rf_reg.predict(X_test)"
   ]
  },
  {
   "cell_type": "code",
   "execution_count": null,
   "id": "23e48c9b",
   "metadata": {},
   "outputs": [
    {
     "name": "stdout",
     "output_type": "stream",
     "text": [
      "Training Data\n",
      "R2    : 0.8536533266383369\n",
      "RMSE  : 12.751160876935884\n",
      "RMSPE : 19.494519011395766%\n",
      "\n",
      "Testing Data\n",
      "R2    : 0.854223773436846\n",
      "RMSE  : 12.716543010507914\n",
      "RMSPE : 19.455769773190422%\n"
     ]
    }
   ],
   "source": [
    "model_evaluation = calculate_model_metrics(y_train, y_train_pred, y_test, y_test_pred)\n",
    "\n",
    "# print the results of model evaluation\n",
    "print(f\"\\nTesting Data\\nR2    : {model_evaluation['Test_R2']}\\nRMSE  : {model_evaluation['Test_RMSE']}\\nRMSPE : {model_evaluation['Test_RMSPE']}%\")\n",
    "\n",
    "# add metrics to metrics table\n",
    "metrics_table.loc[len(metrics_table.index)] = ['Random Forest', model_evaluation['Train_R2'], model_evaluation['Test_R2'], \n",
    "                                                         model_evaluation['Train_RMSE'], model_evaluation['Test_RMSE'], \n",
    "                                                         model_evaluation['Train_RMSPE'], model_evaluation['Test_RMSPE']]"
   ]
  },
  {
   "cell_type": "code",
   "execution_count": null,
   "id": "440485c0",
   "metadata": {},
   "outputs": [],
   "source": [
    "# train data with XGBoost regression\n",
    "xgboost = xgb.XGBRegressor(objective='reg:linear', verbosity=0)\n",
    "parameters = {'max_depth': [2, 5, 10],\n",
    "              'learning_rate': [0.05, 0.1, 0.2],\n",
    "              'min_child_weight': [1, 2, 5],\n",
    "              'gamma': [0, 0.1, 0.3],\n",
    "              'colsample_bytree': [0.3, 0.5, 0.7]}\n",
    "\n",
    "# RandomizedSearchCV is used for hyperparameter tuning because XGBRegressor() have multiple hyperparameters\n",
    "# cv=3 & n_iter=10 since dataset is large\n",
    "xg_reg = RandomizedSearchCV(estimator=xgboost, param_distributions=parameters, n_iter=10, cv=3)\n",
    "xg_reg.fit(X_train, y_train)\n",
    "\n",
    "print(\"The best parameters for XGBoost regression: \")\n",
    "for key, value in xg_reg.best_params_.items():\n",
    "  print(f\"{key}={value}\")\n",
    "print(f\"\\nNegative mean squared error: {xg_reg.best_score_}\")\n",
    "\n",
    "\n",
    "y_train_pred = xg_reg.predict(X_train)\n",
    "y_test_pred = xg_reg.predict(X_test)"
   ]
  },
  {
   "cell_type": "code",
   "execution_count": null,
   "id": "4cf573cd",
   "metadata": {},
   "outputs": [],
   "source": [
    "model_evaluation = calculate_model_metrics(y_train, y_train_pred, y_test, y_test_pred)\n",
    "\n",
    "\n",
    "print(f\"\\nTesting Data\\nR2    : {model_evaluation['Test_R2']}\\nRMSE  : {model_evaluation['Test_RMSE']}\\nRMSPE : {model_evaluation['Test_RMSPE']}%\")\n",
    "\n",
    "metrics_table.loc[len(metrics_table.index)] = ['XGBoost',  model_evaluation['Train_R2'], model_evaluation['Test_R2'], \n",
    "                                                         model_evaluation['Train_RMSE'], model_evaluation['Test_RMSE'], \n",
    "                                                         model_evaluation['Train_RMSPE'], model_evaluation['Test_RMSPE']]"
   ]
  }
 ],
 "metadata": {
  "kernelspec": {
   "display_name": "Python 3 (ipykernel)",
   "language": "python",
   "name": "python3"
  },
  "language_info": {
   "codemirror_mode": {
    "name": "ipython",
    "version": 3
   },
   "file_extension": ".py",
   "mimetype": "text/x-python",
   "name": "python",
   "nbconvert_exporter": "python",
   "pygments_lexer": "ipython3",
   "version": "3.11.4"
  }
 },
 "nbformat": 4,
 "nbformat_minor": 5
}
